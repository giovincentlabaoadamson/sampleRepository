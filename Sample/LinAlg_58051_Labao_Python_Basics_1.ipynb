{
  "nbformat": 4,
  "nbformat_minor": 0,
  "metadata": {
    "colab": {
      "name": "LinAlg 58051 Labao - Python Basics 1.ipynb",
      "provenance": [],
      "authorship_tag": "ABX9TyNt9KgWunoxdI9OKl5ZHYyL",
      "include_colab_link": true
    },
    "kernelspec": {
      "name": "python3",
      "display_name": "Python 3"
    }
  },
  "cells": [
    {
      "cell_type": "markdown",
      "metadata": {
        "id": "view-in-github",
        "colab_type": "text"
      },
      "source": [
        "<a href=\"https://colab.research.google.com/github/giovincentlabaoadamson/sampleRepository/blob/main/Sample/LinAlg_58051_Labao_Python_Basics_1.ipynb\" target=\"_parent\"><img src=\"https://colab.research.google.com/assets/colab-badge.svg\" alt=\"Open In Colab\"/></a>"
      ]
    },
    {
      "cell_type": "markdown",
      "metadata": {
        "id": "j1ImC-YBu8HH"
      },
      "source": [
        "# Fundamentals of Python\r\n"
      ]
    }
  ]
}